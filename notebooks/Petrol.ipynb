{
 "cells": [
  {
   "cell_type": "code",
   "execution_count": 1,
   "metadata": {
    "collapsed": true
   },
   "outputs": [],
   "source": [
    "import os, pandas as pd\n",
    "import datetime as dt\n",
    "\n",
    "## Petrol.csv will hold all data\n",
    "petrol_data = os.path.join(os.path.pardir,'data','raw','Petrol.csv')"
   ]
  },
  {
   "cell_type": "code",
   "execution_count": 2,
   "metadata": {
    "collapsed": false
   },
   "outputs": [],
   "source": [
    "## Petrol.csv file is headerless\n",
    "df = pd.read_csv(petrol_data, names =['Date','Rate','Quantity','Amount','Meters'])"
   ]
  },
  {
   "cell_type": "code",
   "execution_count": 3,
   "metadata": {
    "collapsed": false
   },
   "outputs": [
    {
     "data": {
      "text/html": [
       "<div>\n",
       "<table border=\"1\" class=\"dataframe\">\n",
       "  <thead>\n",
       "    <tr style=\"text-align: right;\">\n",
       "      <th></th>\n",
       "      <th>Date</th>\n",
       "      <th>Rate</th>\n",
       "      <th>Quantity</th>\n",
       "      <th>Amount</th>\n",
       "      <th>Meters</th>\n",
       "    </tr>\n",
       "  </thead>\n",
       "  <tbody>\n",
       "    <tr>\n",
       "      <th>0</th>\n",
       "      <td>2019-01-03</td>\n",
       "      <td>74.30</td>\n",
       "      <td>27.51</td>\n",
       "      <td>2044</td>\n",
       "      <td>498</td>\n",
       "    </tr>\n",
       "    <tr>\n",
       "      <th>1</th>\n",
       "      <td>2018-12-21</td>\n",
       "      <td>75.99</td>\n",
       "      <td>25.34</td>\n",
       "      <td>1926</td>\n",
       "      <td>471</td>\n",
       "    </tr>\n",
       "    <tr>\n",
       "      <th>2</th>\n",
       "      <td>2018-12-04</td>\n",
       "      <td>80.04</td>\n",
       "      <td>29.94</td>\n",
       "      <td>2396</td>\n",
       "      <td>536</td>\n",
       "    </tr>\n",
       "    <tr>\n",
       "      <th>3</th>\n",
       "      <td>2018-11-12</td>\n",
       "      <td>83.05</td>\n",
       "      <td>28.44</td>\n",
       "      <td>2361</td>\n",
       "      <td>525</td>\n",
       "    </tr>\n",
       "    <tr>\n",
       "      <th>4</th>\n",
       "      <td>2018-10-15</td>\n",
       "      <td>88.07</td>\n",
       "      <td>30.17</td>\n",
       "      <td>2657</td>\n",
       "      <td>540</td>\n",
       "    </tr>\n",
       "  </tbody>\n",
       "</table>\n",
       "</div>"
      ],
      "text/plain": [
       "        Date   Rate  Quantity  Amount  Meters\n",
       "0 2019-01-03  74.30     27.51    2044     498\n",
       "1 2018-12-21  75.99     25.34    1926     471\n",
       "2 2018-12-04  80.04     29.94    2396     536\n",
       "3 2018-11-12  83.05     28.44    2361     525\n",
       "4 2018-10-15  88.07     30.17    2657     540"
      ]
     },
     "execution_count": 3,
     "metadata": {},
     "output_type": "execute_result"
    }
   ],
   "source": [
    "## Standarize date pattern\n",
    "def to_date(txtdate):\n",
    "    return (txtdate[:2] + '-' + txtdate[2:5] + '-'+ txtdate[-2:]) \n",
    "\n",
    "df['Date'] = df['Date'].apply(to_date)\n",
    "\n",
    "## date was string\n",
    "df['Date'] = pd.to_datetime(df['Date'], format='%d-%b-%y')\n",
    "df.head()"
   ]
  },
  {
   "cell_type": "code",
   "execution_count": 7,
   "metadata": {
    "collapsed": false
   },
   "outputs": [
    {
     "data": {
      "text/html": [
       "<div>\n",
       "<table border=\"1\" class=\"dataframe\">\n",
       "  <thead>\n",
       "    <tr style=\"text-align: right;\">\n",
       "      <th></th>\n",
       "      <th>Date</th>\n",
       "      <th>Rate</th>\n",
       "      <th>Quantity</th>\n",
       "      <th>Amount</th>\n",
       "      <th>Meters</th>\n",
       "      <th>Kmpl</th>\n",
       "    </tr>\n",
       "  </thead>\n",
       "  <tbody>\n",
       "    <tr>\n",
       "      <th>0</th>\n",
       "      <td>2019-01-03</td>\n",
       "      <td>74.30</td>\n",
       "      <td>27.51</td>\n",
       "      <td>2044</td>\n",
       "      <td>498</td>\n",
       "      <td>18.102508</td>\n",
       "    </tr>\n",
       "    <tr>\n",
       "      <th>1</th>\n",
       "      <td>2018-12-21</td>\n",
       "      <td>75.99</td>\n",
       "      <td>25.34</td>\n",
       "      <td>1926</td>\n",
       "      <td>471</td>\n",
       "      <td>18.587214</td>\n",
       "    </tr>\n",
       "    <tr>\n",
       "      <th>2</th>\n",
       "      <td>2018-12-04</td>\n",
       "      <td>80.04</td>\n",
       "      <td>29.94</td>\n",
       "      <td>2396</td>\n",
       "      <td>536</td>\n",
       "      <td>17.902472</td>\n",
       "    </tr>\n",
       "    <tr>\n",
       "      <th>3</th>\n",
       "      <td>2018-11-12</td>\n",
       "      <td>83.05</td>\n",
       "      <td>28.44</td>\n",
       "      <td>2361</td>\n",
       "      <td>525</td>\n",
       "      <td>18.459916</td>\n",
       "    </tr>\n",
       "    <tr>\n",
       "      <th>4</th>\n",
       "      <td>2018-10-15</td>\n",
       "      <td>88.07</td>\n",
       "      <td>30.17</td>\n",
       "      <td>2657</td>\n",
       "      <td>540</td>\n",
       "      <td>17.898575</td>\n",
       "    </tr>\n",
       "  </tbody>\n",
       "</table>\n",
       "</div>"
      ],
      "text/plain": [
       "        Date   Rate  Quantity  Amount  Meters       Kmpl\n",
       "0 2019-01-03  74.30     27.51    2044     498  18.102508\n",
       "1 2018-12-21  75.99     25.34    1926     471  18.587214\n",
       "2 2018-12-04  80.04     29.94    2396     536  17.902472\n",
       "3 2018-11-12  83.05     28.44    2361     525  18.459916\n",
       "4 2018-10-15  88.07     30.17    2657     540  17.898575"
      ]
     },
     "execution_count": 7,
     "metadata": {},
     "output_type": "execute_result"
    }
   ],
   "source": [
    "## Computing milage\n",
    "df['Kmpl'] = df['Meters'] / df['Quantity']\n",
    "df.head()"
   ]
  },
  {
   "cell_type": "code",
   "execution_count": 8,
   "metadata": {
    "collapsed": false
   },
   "outputs": [
    {
     "data": {
      "text/html": [
       "<div>\n",
       "<table border=\"1\" class=\"dataframe\">\n",
       "  <thead>\n",
       "    <tr style=\"text-align: right;\">\n",
       "      <th></th>\n",
       "      <th>Rate</th>\n",
       "      <th>Quantity</th>\n",
       "      <th>Amount</th>\n",
       "      <th>Meters</th>\n",
       "      <th>Kmpl</th>\n",
       "    </tr>\n",
       "  </thead>\n",
       "  <tbody>\n",
       "    <tr>\n",
       "      <th>count</th>\n",
       "      <td>21.000000</td>\n",
       "      <td>21.000000</td>\n",
       "      <td>21.000000</td>\n",
       "      <td>21.000000</td>\n",
       "      <td>21.000000</td>\n",
       "    </tr>\n",
       "    <tr>\n",
       "      <th>mean</th>\n",
       "      <td>80.957143</td>\n",
       "      <td>29.896190</td>\n",
       "      <td>2421.714286</td>\n",
       "      <td>537.380952</td>\n",
       "      <td>17.995394</td>\n",
       "    </tr>\n",
       "    <tr>\n",
       "      <th>std</th>\n",
       "      <td>4.224984</td>\n",
       "      <td>3.999546</td>\n",
       "      <td>353.098732</td>\n",
       "      <td>71.098155</td>\n",
       "      <td>0.902991</td>\n",
       "    </tr>\n",
       "    <tr>\n",
       "      <th>min</th>\n",
       "      <td>74.300000</td>\n",
       "      <td>25.340000</td>\n",
       "      <td>1926.000000</td>\n",
       "      <td>471.000000</td>\n",
       "      <td>16.039541</td>\n",
       "    </tr>\n",
       "    <tr>\n",
       "      <th>25%</th>\n",
       "      <td>77.530000</td>\n",
       "      <td>28.490000</td>\n",
       "      <td>2265.000000</td>\n",
       "      <td>501.000000</td>\n",
       "      <td>17.626753</td>\n",
       "    </tr>\n",
       "    <tr>\n",
       "      <th>50%</th>\n",
       "      <td>80.120000</td>\n",
       "      <td>29.100000</td>\n",
       "      <td>2396.000000</td>\n",
       "      <td>519.000000</td>\n",
       "      <td>17.851294</td>\n",
       "    </tr>\n",
       "    <tr>\n",
       "      <th>75%</th>\n",
       "      <td>84.140000</td>\n",
       "      <td>30.170000</td>\n",
       "      <td>2487.000000</td>\n",
       "      <td>545.000000</td>\n",
       "      <td>18.352335</td>\n",
       "    </tr>\n",
       "    <tr>\n",
       "      <th>max</th>\n",
       "      <td>89.530000</td>\n",
       "      <td>46.350000</td>\n",
       "      <td>3714.000000</td>\n",
       "      <td>817.000000</td>\n",
       "      <td>20.312500</td>\n",
       "    </tr>\n",
       "  </tbody>\n",
       "</table>\n",
       "</div>"
      ],
      "text/plain": [
       "            Rate   Quantity       Amount      Meters       Kmpl\n",
       "count  21.000000  21.000000    21.000000   21.000000  21.000000\n",
       "mean   80.957143  29.896190  2421.714286  537.380952  17.995394\n",
       "std     4.224984   3.999546   353.098732   71.098155   0.902991\n",
       "min    74.300000  25.340000  1926.000000  471.000000  16.039541\n",
       "25%    77.530000  28.490000  2265.000000  501.000000  17.626753\n",
       "50%    80.120000  29.100000  2396.000000  519.000000  17.851294\n",
       "75%    84.140000  30.170000  2487.000000  545.000000  18.352335\n",
       "max    89.530000  46.350000  3714.000000  817.000000  20.312500"
      ]
     },
     "execution_count": 8,
     "metadata": {},
     "output_type": "execute_result"
    }
   ],
   "source": [
    "df.describe()"
   ]
  },
  {
   "cell_type": "code",
   "execution_count": 9,
   "metadata": {
    "collapsed": false
   },
   "outputs": [
    {
     "data": {
      "image/png": "[encoded data removed]",
      "text/plain": [
       "<matplotlib.figure.Figure at 0x8586eb8>"
      ]
     },
     "metadata": {},
     "output_type": "display_data"
    }
   ],
   "source": [
    "## See milage as bar\n",
    "%matplotlib inline\n",
    "df['Kmpl'].plot(x=df['Date'], y='Kmpl', kind='bar', rot=0, title='Car Mileage');"
   ]
  },
  {
   "cell_type": "code",
   "execution_count": 10,
   "metadata": {
    "collapsed": false
   },
   "outputs": [
    {
     "data": {
      "image/png": "[encoded data removed]",
      "text/plain": [
       "<matplotlib.figure.Figure at 0x88800b8>"
      ]
     },
     "metadata": {},
     "output_type": "display_data"
    }
   ],
   "source": [
    "## Normalize\n",
    "df['Kmpl'] = df['Kmpl']/df['Kmpl'].min()\n",
    "df['Kmpl'].plot(x=df['Date'], y='Kmpl', kind='bar', rot=0, title='Car Mileage');"
   ]
  },
  {
   "cell_type": "code",
   "execution_count": null,
   "metadata": {
    "collapsed": true
   },
   "outputs": [],
   "source": []
  }
 ],
 "metadata": {
  "kernelspec": {
   "display_name": "Python 3",
   "language": "python",
   "name": "python3"
  },
  "language_info": {
   "codemirror_mode": {
    "name": "ipython",
    "version": 3
   },
   "file_extension": ".py",
   "mimetype": "text/x-python",
   "name": "python",
   "nbconvert_exporter": "python",
   "pygments_lexer": "ipython3",
   "version": "3.5.4"
  }
 },
 "nbformat": 4,
 "nbformat_minor": 0
}
